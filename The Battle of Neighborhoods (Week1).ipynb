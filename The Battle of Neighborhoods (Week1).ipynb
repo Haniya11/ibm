{
    "cells": [
        {
            "cell_type": "markdown",
            "metadata": {
                "collapsed": true
            },
            "source": "# **The Battle of Neighborhoods in Australia**"
        },
        {
            "cell_type": "markdown",
            "metadata": {},
            "source": "## The Business Problem\nThere is a research group from an Australian University. They want to contrast the clusters of neighborhoods for Canberra and Perth. They have asked a data scientist to showcase this through a map. This data visualization will help in discussions on how to proceed with their research; they are dependent on how the map and clusters turn out. \nThe researcher's target audience are the university professors who have assigned them this research task. The researchers and university cares about this problem as this counts towards the final degree grade. Contrasting neighborhoods is the first step in the research process. "
        },
        {
            "cell_type": "markdown",
            "metadata": {},
            "source": "## Data\n* The Wikipedia link is being used to get the Postcodes of Australia (https://en.wikipedia.org/wiki/Postcodes_in_Australia). The features that can be extracted from this data are State, Postcode, and locality of postcode (usually a city or suburb)\n* The Geocoder package is being used to find the geographical coordinates of each postal code. The features that can be extracted are longitutde and laditude\n* Foursquare will help in exploring and clustering the neighborhoods in Perth and Canberra. The featues being used are the explore and seach functions which are linked to API. "
        },
        {
            "cell_type": "code",
            "execution_count": null,
            "metadata": {},
            "outputs": [],
            "source": ""
        }
    ],
    "metadata": {
        "kernelspec": {
            "display_name": "Python 3.6",
            "language": "python",
            "name": "python3"
        },
        "language_info": {
            "codemirror_mode": {
                "name": "ipython",
                "version": 3
            },
            "file_extension": ".py",
            "mimetype": "text/x-python",
            "name": "python",
            "nbconvert_exporter": "python",
            "pygments_lexer": "ipython3",
            "version": "3.6.9"
        }
    },
    "nbformat": 4,
    "nbformat_minor": 1
}