{
    "cells": [
        {
            "cell_type": "markdown",
            "metadata": {
                "collapsed": true
            },
            "source": "# **Part 1**"
        },
        {
            "cell_type": "code",
            "execution_count": 1,
            "metadata": {},
            "outputs": [],
            "source": "import pandas as pd\nimport numpy as np\n\nweb = pd.read_html(\"https://en.wikipedia.org/wiki/List_of_postal_codes_of_Canada:_M\", header=0)\npostal_code = web[0]\npostal_code.drop(postal_code[postal_code['Borough'] == 'Not assigned'].index, inplace = True)\npostal_code = postal_code.reset_index(drop=True);"
        },
        {
            "cell_type": "code",
            "execution_count": 2,
            "metadata": {},
            "outputs": [
                {
                    "data": {
                        "text/html": "<div>\n<style scoped>\n    .dataframe tbody tr th:only-of-type {\n        vertical-align: middle;\n    }\n\n    .dataframe tbody tr th {\n        vertical-align: top;\n    }\n\n    .dataframe thead th {\n        text-align: right;\n    }\n</style>\n<table border=\"1\" class=\"dataframe\">\n  <thead>\n    <tr style=\"text-align: right;\">\n      <th></th>\n      <th>Postal Code</th>\n      <th>Borough</th>\n      <th>Neighborhood</th>\n    </tr>\n  </thead>\n  <tbody>\n    <tr>\n      <th>0</th>\n      <td>M3A</td>\n      <td>North York</td>\n      <td>Parkwoods</td>\n    </tr>\n    <tr>\n      <th>1</th>\n      <td>M4A</td>\n      <td>North York</td>\n      <td>Victoria Village</td>\n    </tr>\n    <tr>\n      <th>2</th>\n      <td>M5A</td>\n      <td>Downtown Toronto</td>\n      <td>Regent Park, Harbourfront</td>\n    </tr>\n    <tr>\n      <th>3</th>\n      <td>M6A</td>\n      <td>North York</td>\n      <td>Lawrence Manor, Lawrence Heights</td>\n    </tr>\n    <tr>\n      <th>4</th>\n      <td>M7A</td>\n      <td>Downtown Toronto</td>\n      <td>Queen's Park, Ontario Provincial Government</td>\n    </tr>\n  </tbody>\n</table>\n</div>",
                        "text/plain": "  Postal Code           Borough                                 Neighborhood\n0         M3A        North York                                    Parkwoods\n1         M4A        North York                             Victoria Village\n2         M5A  Downtown Toronto                    Regent Park, Harbourfront\n3         M6A        North York             Lawrence Manor, Lawrence Heights\n4         M7A  Downtown Toronto  Queen's Park, Ontario Provincial Government"
                    },
                    "execution_count": 2,
                    "metadata": {},
                    "output_type": "execute_result"
                }
            ],
            "source": "postal_code.loc[postal_code['Neighborhood'] == 'NAN', 'Neighborhood'] = postal_code['Borough']\npostal_code = postal_code.reset_index(drop=True);\npostal_code.head()"
        },
        {
            "cell_type": "code",
            "execution_count": 3,
            "metadata": {},
            "outputs": [
                {
                    "data": {
                        "text/plain": "(103, 3)"
                    },
                    "execution_count": 3,
                    "metadata": {},
                    "output_type": "execute_result"
                }
            ],
            "source": "postal_code.shape"
        },
        {
            "cell_type": "markdown",
            "metadata": {},
            "source": "# **Part 2**"
        },
        {
            "cell_type": "code",
            "execution_count": 4,
            "metadata": {},
            "outputs": [
                {
                    "name": "stdout",
                    "output_type": "stream",
                    "text": "--2020-05-16 01:21:10--  https://cocl.us/Geospatial_data\nResolving cocl.us (cocl.us)... 159.8.69.24, 159.8.69.21, 159.8.72.228\nConnecting to cocl.us (cocl.us)|159.8.69.24|:443... connected.\nHTTP request sent, awaiting response... 301 Moved Permanently\nLocation: https://ibm.box.com/shared/static/9afzr83pps4pwf2smjjcf1y5mvgb18rr.csv [following]\n--2020-05-16 01:21:12--  https://ibm.box.com/shared/static/9afzr83pps4pwf2smjjcf1y5mvgb18rr.csv\nResolving ibm.box.com (ibm.box.com)... 185.235.236.197\nConnecting to ibm.box.com (ibm.box.com)|185.235.236.197|:443... connected.\nHTTP request sent, awaiting response... 301 Moved Permanently\nLocation: /public/static/9afzr83pps4pwf2smjjcf1y5mvgb18rr.csv [following]\n--2020-05-16 01:21:12--  https://ibm.box.com/public/static/9afzr83pps4pwf2smjjcf1y5mvgb18rr.csv\nReusing existing connection to ibm.box.com:443.\nHTTP request sent, awaiting response... 301 Moved Permanently\nLocation: https://ibm.ent.box.com/public/static/9afzr83pps4pwf2smjjcf1y5mvgb18rr.csv [following]\n--2020-05-16 01:21:12--  https://ibm.ent.box.com/public/static/9afzr83pps4pwf2smjjcf1y5mvgb18rr.csv\nResolving ibm.ent.box.com (ibm.ent.box.com)... 185.235.236.211\nConnecting to ibm.ent.box.com (ibm.ent.box.com)|185.235.236.211|:443... connected.\nHTTP request sent, awaiting response... 302 Found\nLocation: https://public.boxcloud.com/d/1/b1!Rlb_iF1XAbdjadm-eaqfSogSNwf2f_A1nVJ-PALgde4FxpctfNstWRdd37ARw4tVc9n-ujaty8pzuer52yQRL4xzXlML2mQ6Z3EL3oDLF4uGYui3n2HdhVt6jtP_LXjpEbgbvDfKuOhbbwoPJybyxHbbiKF6rA8biQr6oBGg0W7IbB9pNCTnU9yYMvgMOx6-zTjmJ7Ys3pHegxzjXO3BoO_ThVKfONh52JSv7Q9kXfzZwyBlQ1mLcwLnykSF0dMKfSzzBK1vIpf7fAM04KNrOqcWCeK3Mw2M0xRxoRl_saHP7JRXZXv7UBmCeOraZzxuhUDEj9DbhMcHeqsj-r4UCxH2O0jNx1zEnlcN8DPS9n-zr1XSeL6BMD82EoU5io7AtXULuokszkxvw_FP6nMEBvZ4U3o1fsLEXrey4E-54O1VgYMpUzUBk9CrPN3NZGaQBoud4Zm2JCYGUXWbaRm6PhsDk6mDuDViM2EWXADru19ZdasQyO2Eo20XhaJV9gRxuawyHbH_R6_jmS3TIWsGQEO5zxxwIrrE_vDscAOX9liW59Y5lVNAAGFdoq9PKuz1P-d64WgOFgpIzXRmvccLohELXzkuLbAXsp8mm5ewVFriITiHOqExMR3BamDOFM9x3eDGoplpbggV6kulPZYX1aeN5sVaqxEkcwvK6L3FL0LihmRdUck1sK6Y8PksscWP7e8S1S49wr32HIFMCOlH0KsRG9CfMVaBwPPmhAuSgHP8tvT7kmw8sJa1dN816f4Pirjx81u0-crhTzktZrsfZhO-5j9bFjDo_PgVxSuvNnu1NyN6YwxlZFJbZM7kjRHA2D3zhN4Ms7pH8ckUa1yls5VqxjzoON_b2H8WviaJRhQfvo_TExkC-jZaQNsJgZ6sBWKpcfOfpVo7Si8U4yr2x2h2OZ1X5P38dTxu-uirVDFXo81uWYuPlRm7PVGO6mlC8dPjXqRiXXp7AyUzapW7l_zsGhROYV9HePnkV1zJoFMQGh8dAdFQ7FqdeI41ACMvgoNruD8ZYTJEdI-rP04PBhgXerM6N3p2wCKzX7X-zO5iBEUsERUHuxhDRIQazklHJeZbHeHmvXkSi2LM5QVCuvtx69bAxBH9wzFKoEGsGyBRXPmfOuVxwbMali4ih64RLdG0KkUuH-92J5nHwbQNxlOPxpE4YlI5Gm_YsYUH9G-USRNHXr8GFTA76LZhkGgUfsRubJBLVX-_5SjDghAohIwaFCxX0URvheEhdvqxTdriw_gOIfSL4SC0s_rVJ3GRVa5oC5xzVOMhbpwBgqgUro8qGpBYQBSiyvlWtaqoxFS-7mzGzJI05qmC2FCHzc4bJjABZt0g3p9wXtLjXFedfMARtZ32EBnMvtpT6L1b8y1Zi6F1yzZxaRItyBQhv3e-7rJ2QOqOcEpt2HwF-lEBaWr11VsSG0W9MdW0qQ0gL3BdsOs./download [following]\n--2020-05-16 01:21:13--  https://public.boxcloud.com/d/1/b1!Rlb_iF1XAbdjadm-eaqfSogSNwf2f_A1nVJ-PALgde4FxpctfNstWRdd37ARw4tVc9n-ujaty8pzuer52yQRL4xzXlML2mQ6Z3EL3oDLF4uGYui3n2HdhVt6jtP_LXjpEbgbvDfKuOhbbwoPJybyxHbbiKF6rA8biQr6oBGg0W7IbB9pNCTnU9yYMvgMOx6-zTjmJ7Ys3pHegxzjXO3BoO_ThVKfONh52JSv7Q9kXfzZwyBlQ1mLcwLnykSF0dMKfSzzBK1vIpf7fAM04KNrOqcWCeK3Mw2M0xRxoRl_saHP7JRXZXv7UBmCeOraZzxuhUDEj9DbhMcHeqsj-r4UCxH2O0jNx1zEnlcN8DPS9n-zr1XSeL6BMD82EoU5io7AtXULuokszkxvw_FP6nMEBvZ4U3o1fsLEXrey4E-54O1VgYMpUzUBk9CrPN3NZGaQBoud4Zm2JCYGUXWbaRm6PhsDk6mDuDViM2EWXADru19ZdasQyO2Eo20XhaJV9gRxuawyHbH_R6_jmS3TIWsGQEO5zxxwIrrE_vDscAOX9liW59Y5lVNAAGFdoq9PKuz1P-d64WgOFgpIzXRmvccLohELXzkuLbAXsp8mm5ewVFriITiHOqExMR3BamDOFM9x3eDGoplpbggV6kulPZYX1aeN5sVaqxEkcwvK6L3FL0LihmRdUck1sK6Y8PksscWP7e8S1S49wr32HIFMCOlH0KsRG9CfMVaBwPPmhAuSgHP8tvT7kmw8sJa1dN816f4Pirjx81u0-crhTzktZrsfZhO-5j9bFjDo_PgVxSuvNnu1NyN6YwxlZFJbZM7kjRHA2D3zhN4Ms7pH8ckUa1yls5VqxjzoON_b2H8WviaJRhQfvo_TExkC-jZaQNsJgZ6sBWKpcfOfpVo7Si8U4yr2x2h2OZ1X5P38dTxu-uirVDFXo81uWYuPlRm7PVGO6mlC8dPjXqRiXXp7AyUzapW7l_zsGhROYV9HePnkV1zJoFMQGh8dAdFQ7FqdeI41ACMvgoNruD8ZYTJEdI-rP04PBhgXerM6N3p2wCKzX7X-zO5iBEUsERUHuxhDRIQazklHJeZbHeHmvXkSi2LM5QVCuvtx69bAxBH9wzFKoEGsGyBRXPmfOuVxwbMali4ih64RLdG0KkUuH-92J5nHwbQNxlOPxpE4YlI5Gm_YsYUH9G-USRNHXr8GFTA76LZhkGgUfsRubJBLVX-_5SjDghAohIwaFCxX0URvheEhdvqxTdriw_gOIfSL4SC0s_rVJ3GRVa5oC5xzVOMhbpwBgqgUro8qGpBYQBSiyvlWtaqoxFS-7mzGzJI05qmC2FCHzc4bJjABZt0g3p9wXtLjXFedfMARtZ32EBnMvtpT6L1b8y1Zi6F1yzZxaRItyBQhv3e-7rJ2QOqOcEpt2HwF-lEBaWr11VsSG0W9MdW0qQ0gL3BdsOs./download\nResolving public.boxcloud.com (public.boxcloud.com)... 185.235.236.200\nConnecting to public.boxcloud.com (public.boxcloud.com)|185.235.236.200|:443... connected.\nHTTP request sent, awaiting response... 200 OK\nLength: 2891 (2.8K) [text/csv]\nSaving to: \u2018postalcode.csv\u2019\n\n100%[======================================>] 2,891       --.-K/s   in 0s      \n\n2020-05-16 01:21:14 (250 MB/s) - \u2018postalcode.csv\u2019 saved [2891/2891]\n\n"
                }
            ],
            "source": "!wget -O postalcode.csv https://cocl.us/Geospatial_data"
        },
        {
            "cell_type": "code",
            "execution_count": 5,
            "metadata": {},
            "outputs": [
                {
                    "data": {
                        "text/html": "<div>\n<style scoped>\n    .dataframe tbody tr th:only-of-type {\n        vertical-align: middle;\n    }\n\n    .dataframe tbody tr th {\n        vertical-align: top;\n    }\n\n    .dataframe thead th {\n        text-align: right;\n    }\n</style>\n<table border=\"1\" class=\"dataframe\">\n  <thead>\n    <tr style=\"text-align: right;\">\n      <th></th>\n      <th>Postal Code</th>\n      <th>Latitude</th>\n      <th>Longitude</th>\n    </tr>\n  </thead>\n  <tbody>\n    <tr>\n      <th>0</th>\n      <td>M1B</td>\n      <td>43.806686</td>\n      <td>-79.194353</td>\n    </tr>\n    <tr>\n      <th>1</th>\n      <td>M1C</td>\n      <td>43.784535</td>\n      <td>-79.160497</td>\n    </tr>\n    <tr>\n      <th>2</th>\n      <td>M1E</td>\n      <td>43.763573</td>\n      <td>-79.188711</td>\n    </tr>\n    <tr>\n      <th>3</th>\n      <td>M1G</td>\n      <td>43.770992</td>\n      <td>-79.216917</td>\n    </tr>\n    <tr>\n      <th>4</th>\n      <td>M1H</td>\n      <td>43.773136</td>\n      <td>-79.239476</td>\n    </tr>\n  </tbody>\n</table>\n</div>",
                        "text/plain": "  Postal Code   Latitude  Longitude\n0         M1B  43.806686 -79.194353\n1         M1C  43.784535 -79.160497\n2         M1E  43.763573 -79.188711\n3         M1G  43.770992 -79.216917\n4         M1H  43.773136 -79.239476"
                    },
                    "execution_count": 5,
                    "metadata": {},
                    "output_type": "execute_result"
                }
            ],
            "source": "df = pd.read_csv('postalcode.csv')\ndf.head()"
        },
        {
            "cell_type": "code",
            "execution_count": 6,
            "metadata": {},
            "outputs": [],
            "source": "postal_code = pd.merge(postal_code, df, on=\"Postal Code\")"
        },
        {
            "cell_type": "code",
            "execution_count": 7,
            "metadata": {},
            "outputs": [
                {
                    "data": {
                        "text/html": "<div>\n<style scoped>\n    .dataframe tbody tr th:only-of-type {\n        vertical-align: middle;\n    }\n\n    .dataframe tbody tr th {\n        vertical-align: top;\n    }\n\n    .dataframe thead th {\n        text-align: right;\n    }\n</style>\n<table border=\"1\" class=\"dataframe\">\n  <thead>\n    <tr style=\"text-align: right;\">\n      <th></th>\n      <th>Postal Code</th>\n      <th>Borough</th>\n      <th>Neighborhood</th>\n      <th>Latitude</th>\n      <th>Longitude</th>\n    </tr>\n  </thead>\n  <tbody>\n    <tr>\n      <th>0</th>\n      <td>M3A</td>\n      <td>North York</td>\n      <td>Parkwoods</td>\n      <td>43.753259</td>\n      <td>-79.329656</td>\n    </tr>\n    <tr>\n      <th>1</th>\n      <td>M4A</td>\n      <td>North York</td>\n      <td>Victoria Village</td>\n      <td>43.725882</td>\n      <td>-79.315572</td>\n    </tr>\n    <tr>\n      <th>2</th>\n      <td>M5A</td>\n      <td>Downtown Toronto</td>\n      <td>Regent Park, Harbourfront</td>\n      <td>43.654260</td>\n      <td>-79.360636</td>\n    </tr>\n    <tr>\n      <th>3</th>\n      <td>M6A</td>\n      <td>North York</td>\n      <td>Lawrence Manor, Lawrence Heights</td>\n      <td>43.718518</td>\n      <td>-79.464763</td>\n    </tr>\n    <tr>\n      <th>4</th>\n      <td>M7A</td>\n      <td>Downtown Toronto</td>\n      <td>Queen's Park, Ontario Provincial Government</td>\n      <td>43.662301</td>\n      <td>-79.389494</td>\n    </tr>\n  </tbody>\n</table>\n</div>",
                        "text/plain": "  Postal Code           Borough                                 Neighborhood  \\\n0         M3A        North York                                    Parkwoods   \n1         M4A        North York                             Victoria Village   \n2         M5A  Downtown Toronto                    Regent Park, Harbourfront   \n3         M6A        North York             Lawrence Manor, Lawrence Heights   \n4         M7A  Downtown Toronto  Queen's Park, Ontario Provincial Government   \n\n    Latitude  Longitude  \n0  43.753259 -79.329656  \n1  43.725882 -79.315572  \n2  43.654260 -79.360636  \n3  43.718518 -79.464763  \n4  43.662301 -79.389494  "
                    },
                    "execution_count": 7,
                    "metadata": {},
                    "output_type": "execute_result"
                }
            ],
            "source": "postal_code.head()"
        },
        {
            "cell_type": "code",
            "execution_count": 8,
            "metadata": {},
            "outputs": [
                {
                    "data": {
                        "text/plain": "(103, 5)"
                    },
                    "execution_count": 8,
                    "metadata": {},
                    "output_type": "execute_result"
                }
            ],
            "source": "postal_code.shape"
        },
        {
            "cell_type": "markdown",
            "metadata": {},
            "source": "# **Part 3**"
        },
        {
            "cell_type": "code",
            "execution_count": 9,
            "metadata": {},
            "outputs": [
                {
                    "ename": "ModuleNotFoundError",
                    "evalue": "No module named 'folium'",
                    "output_type": "error",
                    "traceback": [
                        "\u001b[0;31m---------------------------------------------------------------------------\u001b[0m",
                        "\u001b[0;31mModuleNotFoundError\u001b[0m                       Traceback (most recent call last)",
                        "\u001b[0;32m<ipython-input-9-7d314c507729>\u001b[0m in \u001b[0;36m<module>\u001b[0;34m\u001b[0m\n\u001b[1;32m     19\u001b[0m \u001b[0;32mfrom\u001b[0m \u001b[0msklearn\u001b[0m\u001b[0;34m.\u001b[0m\u001b[0mcluster\u001b[0m \u001b[0;32mimport\u001b[0m \u001b[0mKMeans\u001b[0m\u001b[0;34m\u001b[0m\u001b[0;34m\u001b[0m\u001b[0m\n\u001b[1;32m     20\u001b[0m \u001b[0;34m\u001b[0m\u001b[0m\n\u001b[0;32m---> 21\u001b[0;31m \u001b[0;32mimport\u001b[0m \u001b[0mfolium\u001b[0m \u001b[0;31m# map rendering library\u001b[0m\u001b[0;34m\u001b[0m\u001b[0;34m\u001b[0m\u001b[0m\n\u001b[0m\u001b[1;32m     22\u001b[0m \u001b[0;34m\u001b[0m\u001b[0m\n\u001b[1;32m     23\u001b[0m \u001b[0mprint\u001b[0m\u001b[0;34m(\u001b[0m\u001b[0;34m'Libraries imported.'\u001b[0m\u001b[0;34m)\u001b[0m\u001b[0;34m\u001b[0m\u001b[0;34m\u001b[0m\u001b[0m\n",
                        "\u001b[0;31mModuleNotFoundError\u001b[0m: No module named 'folium'"
                    ]
                }
            ],
            "source": "import numpy as np # library to handle data in a vectorized manner\n\nimport pandas as pd # library for data analsysis\npd.set_option('display.max_rows', 500)\npd.set_option('display.max_columns', 500)\npd.set_option('display.width', 1000)\n\nimport json # library to handle JSON files\n\nfrom geopy.geocoders import Nominatim # convert an address into latitude and longitude values\n\nfrom pandas.io.json import json_normalize # tranform JSON file into a pandas dataframe\n\n# Matplotlib and associated plotting modules\nimport matplotlib.cm as cm\nimport matplotlib.colors as colors\n\n# import k-means from clustering stage\nfrom sklearn.cluster import KMeans\n\nimport folium # map rendering library\n\nprint('Libraries imported.')"
        },
        {
            "cell_type": "code",
            "execution_count": null,
            "metadata": {},
            "outputs": [],
            "source": ""
        },
        {
            "cell_type": "code",
            "execution_count": null,
            "metadata": {},
            "outputs": [],
            "source": ""
        },
        {
            "cell_type": "code",
            "execution_count": null,
            "metadata": {},
            "outputs": [],
            "source": ""
        },
        {
            "cell_type": "code",
            "execution_count": null,
            "metadata": {},
            "outputs": [],
            "source": ""
        },
        {
            "cell_type": "code",
            "execution_count": null,
            "metadata": {},
            "outputs": [],
            "source": ""
        }
    ],
    "metadata": {
        "kernelspec": {
            "display_name": "Python 3.6",
            "language": "python",
            "name": "python3"
        },
        "language_info": {
            "codemirror_mode": {
                "name": "ipython",
                "version": 3
            },
            "file_extension": ".py",
            "mimetype": "text/x-python",
            "name": "python",
            "nbconvert_exporter": "python",
            "pygments_lexer": "ipython3",
            "version": "3.6.9"
        }
    },
    "nbformat": 4,
    "nbformat_minor": 1
}