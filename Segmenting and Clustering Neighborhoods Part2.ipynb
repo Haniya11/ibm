{
    "cells": [
        {
            "cell_type": "markdown",
            "metadata": {
                "collapsed": true
            },
            "source": "# **Part 1**"
        },
        {
            "cell_type": "code",
            "execution_count": 12,
            "metadata": {},
            "outputs": [],
            "source": "import pandas as pd\nimport numpy as np\n\nweb = pd.read_html(\"https://en.wikipedia.org/wiki/List_of_postal_codes_of_Canada:_M\", header=0)\npostal_code = web[0]\npostal_code.drop(postal_code[postal_code['Borough'] == 'Not assigned'].index, inplace = True)\npostal_code = postal_code.reset_index(drop=True);\n#obtained the data that is in the table of postal codes "
        },
        {
            "cell_type": "code",
            "execution_count": 13,
            "metadata": {},
            "outputs": [
                {
                    "data": {
                        "text/html": "<div>\n<style scoped>\n    .dataframe tbody tr th:only-of-type {\n        vertical-align: middle;\n    }\n\n    .dataframe tbody tr th {\n        vertical-align: top;\n    }\n\n    .dataframe thead th {\n        text-align: right;\n    }\n</style>\n<table border=\"1\" class=\"dataframe\">\n  <thead>\n    <tr style=\"text-align: right;\">\n      <th></th>\n      <th>Postal Code</th>\n      <th>Borough</th>\n      <th>Neighborhood</th>\n    </tr>\n  </thead>\n  <tbody>\n    <tr>\n      <th>0</th>\n      <td>M3A</td>\n      <td>North York</td>\n      <td>Parkwoods</td>\n    </tr>\n    <tr>\n      <th>1</th>\n      <td>M4A</td>\n      <td>North York</td>\n      <td>Victoria Village</td>\n    </tr>\n    <tr>\n      <th>2</th>\n      <td>M5A</td>\n      <td>Downtown Toronto</td>\n      <td>Regent Park, Harbourfront</td>\n    </tr>\n    <tr>\n      <th>3</th>\n      <td>M6A</td>\n      <td>North York</td>\n      <td>Lawrence Manor, Lawrence Heights</td>\n    </tr>\n    <tr>\n      <th>4</th>\n      <td>M7A</td>\n      <td>Downtown Toronto</td>\n      <td>Queen's Park, Ontario Provincial Government</td>\n    </tr>\n  </tbody>\n</table>\n</div>",
                        "text/plain": "  Postal Code           Borough                                 Neighborhood\n0         M3A        North York                                    Parkwoods\n1         M4A        North York                             Victoria Village\n2         M5A  Downtown Toronto                    Regent Park, Harbourfront\n3         M6A        North York             Lawrence Manor, Lawrence Heights\n4         M7A  Downtown Toronto  Queen's Park, Ontario Provincial Government"
                    },
                    "execution_count": 13,
                    "metadata": {},
                    "output_type": "execute_result"
                }
            ],
            "source": "postal_code.loc[postal_code['Neighborhood'] == 'NAN', 'Neighborhood'] = postal_code['Borough']\npostal_code = postal_code.reset_index(drop=True);\npostal_code.head()\n#transformed the data into a pandas dataframe and the dataframe falls under dataframe requirements "
        },
        {
            "cell_type": "code",
            "execution_count": 14,
            "metadata": {},
            "outputs": [
                {
                    "data": {
                        "text/plain": "(103, 3)"
                    },
                    "execution_count": 14,
                    "metadata": {},
                    "output_type": "execute_result"
                }
            ],
            "source": "postal_code.shape"
        },
        {
            "cell_type": "markdown",
            "metadata": {},
            "source": "# **Part 2**"
        },
        {
            "cell_type": "code",
            "execution_count": 15,
            "metadata": {},
            "outputs": [
                {
                    "name": "stdout",
                    "output_type": "stream",
                    "text": "--2020-05-15 23:30:42--  https://cocl.us/Geospatial_data\nResolving cocl.us (cocl.us)... 158.85.108.83, 169.48.113.194, 158.85.108.86\nConnecting to cocl.us (cocl.us)|158.85.108.83|:443... connected.\nHTTP request sent, awaiting response... 301 Moved Permanently\nLocation: https://ibm.box.com/shared/static/9afzr83pps4pwf2smjjcf1y5mvgb18rr.csv [following]\n--2020-05-15 23:30:45--  https://ibm.box.com/shared/static/9afzr83pps4pwf2smjjcf1y5mvgb18rr.csv\nResolving ibm.box.com (ibm.box.com)... 185.235.236.197\nConnecting to ibm.box.com (ibm.box.com)|185.235.236.197|:443... connected.\nHTTP request sent, awaiting response... 301 Moved Permanently\nLocation: /public/static/9afzr83pps4pwf2smjjcf1y5mvgb18rr.csv [following]\n--2020-05-15 23:30:45--  https://ibm.box.com/public/static/9afzr83pps4pwf2smjjcf1y5mvgb18rr.csv\nReusing existing connection to ibm.box.com:443.\nHTTP request sent, awaiting response... 301 Moved Permanently\nLocation: https://ibm.ent.box.com/public/static/9afzr83pps4pwf2smjjcf1y5mvgb18rr.csv [following]\n--2020-05-15 23:30:45--  https://ibm.ent.box.com/public/static/9afzr83pps4pwf2smjjcf1y5mvgb18rr.csv\nResolving ibm.ent.box.com (ibm.ent.box.com)... 185.235.236.211\nConnecting to ibm.ent.box.com (ibm.ent.box.com)|185.235.236.211|:443... connected.\nHTTP request sent, awaiting response... 302 Found\nLocation: https://public.boxcloud.com/d/1/b1!J4AGmnoadmemld7VrXYzZvkS8fkdd-A0PJKKU1T4UACANMHSkaBrIWo1IuPHO5rHQz4fnMrwBBzEEk27zFQEczvMbhFva7vroJ9e8c_iNfhv1ogCXpJBxVqP1T-rwYKgCtvYYIyWAAJN-bkX-MWS8shuuOzACiUwuBbNOyZc989f5_xP6EPet60b_LH_YajlOqNb7IPBrCJu-p7RQ0zypWW1wb70nTPmhtosbyhYruIiteRiAdxDto2EJI52mlQheXIZDbPyRzMaWe8DCZ_56fatPUEL4xH8pu2asoaOSPPdQw0dPmHMalRj5iU02K6oQog35UFBkrEqujLGTjlmhNBhHpU79RQw3NBrTOXnN4i_p64eNwmX_v3xxtobxk5T0gpjFcW4Fz2nJTtibF1uGWl6VbFUA6lkMDB7oqzyqWbQyP2CRxUw5f3uPeUbu0YeaK4Y89qO8g6VHHkw4m8deVDoBa1ntTL4Py74RZeG_QfDkCKdC7TYiB9MBBkY2zm48Ty4bi7lyaIwr_ALDTX09kjd0T9OlkgWMzIDl2IwaXtdGE_LI3ePA7811f82LQH8h91pxAV49hWPKhpX3Xm6h_tN8k9MrLwE5q4wM3dj2QXITtMQs079_Na1qqRoVdKxtXyM1RojZva6agpuqex7hq1UOjkNKXgbGKA5m9mPuUpMFC3HNg7rXOt606vIIJwJosvzXYf25jmm4S1jhg0TZPgFW2eDQjDNPO9caotJgV2iYWbktWZHMsBmQebMFFA9e2j0xbjrsTYT1Xs-_p9MlcXGEM1AV_b5kFYcZtCT3U819mZgj03ttuL-wQ2tVm_wfvSz7bxvWSpRGAue9QBwLZkTvZinRIoyfCoGJ8ycy2h8tUhQo7qmq2FdELyoCsAC6Vyr9IU-rSxioTiR8Kxmnn0O5VQ7bI9WML-67-PhrxQVnCTNOqQPzr5_SIou8reEXJGM88z966WNJRe89LERNZfA_u3jMSj52xzqNQz3Gnyd-1UBguMyfiQvDHQlHKkXDwXmGdF0OeFrFUS0Gz2HyGTmGXQjA6d_TD_GM31F5UU47IcgvXBj4Rc7Nv0FmFag6X_o4oG4hXM4arRHL9BZHejbr9rHLvHUQQN2puLuSFVmnT4xuXzzn32uSJ1qPIk3W2Sfmi6uL4O7cfp-_kav53c7NI7UEBBKqARG3K20r_OkTgfg48krPbNZHk4FvIPWNXc7-OmnXFVC341v34LAAPDXlzNR2esQ6KF6EndwGGXL3gn-Fm_oJUaaDUFGaxfnJClCYCBb6zKPB6CL7nDtAh_JYDw0hgvcWGZDGuwfzqMesaXYypbEkn3T7EdyupUXiiaNrQKiilY2iRthh-KU2m9ASr-xjSNILd0hhXrv543MUkWIYno12JEjOSKPbWhVqt9aQYvlQNkLHMtLO0gxShFCmvs7utX6O8tam4_njfFt1Q../download [following]\n--2020-05-15 23:30:46--  https://public.boxcloud.com/d/1/b1!J4AGmnoadmemld7VrXYzZvkS8fkdd-A0PJKKU1T4UACANMHSkaBrIWo1IuPHO5rHQz4fnMrwBBzEEk27zFQEczvMbhFva7vroJ9e8c_iNfhv1ogCXpJBxVqP1T-rwYKgCtvYYIyWAAJN-bkX-MWS8shuuOzACiUwuBbNOyZc989f5_xP6EPet60b_LH_YajlOqNb7IPBrCJu-p7RQ0zypWW1wb70nTPmhtosbyhYruIiteRiAdxDto2EJI52mlQheXIZDbPyRzMaWe8DCZ_56fatPUEL4xH8pu2asoaOSPPdQw0dPmHMalRj5iU02K6oQog35UFBkrEqujLGTjlmhNBhHpU79RQw3NBrTOXnN4i_p64eNwmX_v3xxtobxk5T0gpjFcW4Fz2nJTtibF1uGWl6VbFUA6lkMDB7oqzyqWbQyP2CRxUw5f3uPeUbu0YeaK4Y89qO8g6VHHkw4m8deVDoBa1ntTL4Py74RZeG_QfDkCKdC7TYiB9MBBkY2zm48Ty4bi7lyaIwr_ALDTX09kjd0T9OlkgWMzIDl2IwaXtdGE_LI3ePA7811f82LQH8h91pxAV49hWPKhpX3Xm6h_tN8k9MrLwE5q4wM3dj2QXITtMQs079_Na1qqRoVdKxtXyM1RojZva6agpuqex7hq1UOjkNKXgbGKA5m9mPuUpMFC3HNg7rXOt606vIIJwJosvzXYf25jmm4S1jhg0TZPgFW2eDQjDNPO9caotJgV2iYWbktWZHMsBmQebMFFA9e2j0xbjrsTYT1Xs-_p9MlcXGEM1AV_b5kFYcZtCT3U819mZgj03ttuL-wQ2tVm_wfvSz7bxvWSpRGAue9QBwLZkTvZinRIoyfCoGJ8ycy2h8tUhQo7qmq2FdELyoCsAC6Vyr9IU-rSxioTiR8Kxmnn0O5VQ7bI9WML-67-PhrxQVnCTNOqQPzr5_SIou8reEXJGM88z966WNJRe89LERNZfA_u3jMSj52xzqNQz3Gnyd-1UBguMyfiQvDHQlHKkXDwXmGdF0OeFrFUS0Gz2HyGTmGXQjA6d_TD_GM31F5UU47IcgvXBj4Rc7Nv0FmFag6X_o4oG4hXM4arRHL9BZHejbr9rHLvHUQQN2puLuSFVmnT4xuXzzn32uSJ1qPIk3W2Sfmi6uL4O7cfp-_kav53c7NI7UEBBKqARG3K20r_OkTgfg48krPbNZHk4FvIPWNXc7-OmnXFVC341v34LAAPDXlzNR2esQ6KF6EndwGGXL3gn-Fm_oJUaaDUFGaxfnJClCYCBb6zKPB6CL7nDtAh_JYDw0hgvcWGZDGuwfzqMesaXYypbEkn3T7EdyupUXiiaNrQKiilY2iRthh-KU2m9ASr-xjSNILd0hhXrv543MUkWIYno12JEjOSKPbWhVqt9aQYvlQNkLHMtLO0gxShFCmvs7utX6O8tam4_njfFt1Q../download\nResolving public.boxcloud.com (public.boxcloud.com)... 185.235.236.200\nConnecting to public.boxcloud.com (public.boxcloud.com)|185.235.236.200|:443... connected.\nHTTP request sent, awaiting response... 200 OK\nLength: 2891 (2.8K) [text/csv]\nSaving to: \u2018postalcode.csv\u2019\n\n100%[======================================>] 2,891       --.-K/s   in 0s      \n\n2020-05-15 23:30:46 (244 MB/s) - \u2018postalcode.csv\u2019 saved [2891/2891]\n\n"
                }
            ],
            "source": "!wget -O postalcode.csv https://cocl.us/Geospatial_data"
        },
        {
            "cell_type": "code",
            "execution_count": 16,
            "metadata": {},
            "outputs": [
                {
                    "data": {
                        "text/html": "<div>\n<style scoped>\n    .dataframe tbody tr th:only-of-type {\n        vertical-align: middle;\n    }\n\n    .dataframe tbody tr th {\n        vertical-align: top;\n    }\n\n    .dataframe thead th {\n        text-align: right;\n    }\n</style>\n<table border=\"1\" class=\"dataframe\">\n  <thead>\n    <tr style=\"text-align: right;\">\n      <th></th>\n      <th>Postal Code</th>\n      <th>Latitude</th>\n      <th>Longitude</th>\n    </tr>\n  </thead>\n  <tbody>\n    <tr>\n      <th>0</th>\n      <td>M1B</td>\n      <td>43.806686</td>\n      <td>-79.194353</td>\n    </tr>\n    <tr>\n      <th>1</th>\n      <td>M1C</td>\n      <td>43.784535</td>\n      <td>-79.160497</td>\n    </tr>\n    <tr>\n      <th>2</th>\n      <td>M1E</td>\n      <td>43.763573</td>\n      <td>-79.188711</td>\n    </tr>\n    <tr>\n      <th>3</th>\n      <td>M1G</td>\n      <td>43.770992</td>\n      <td>-79.216917</td>\n    </tr>\n    <tr>\n      <th>4</th>\n      <td>M1H</td>\n      <td>43.773136</td>\n      <td>-79.239476</td>\n    </tr>\n  </tbody>\n</table>\n</div>",
                        "text/plain": "  Postal Code   Latitude  Longitude\n0         M1B  43.806686 -79.194353\n1         M1C  43.784535 -79.160497\n2         M1E  43.763573 -79.188711\n3         M1G  43.770992 -79.216917\n4         M1H  43.773136 -79.239476"
                    },
                    "execution_count": 16,
                    "metadata": {},
                    "output_type": "execute_result"
                }
            ],
            "source": "# we got the latitude and the longitude coordinates of each neighborhood\ndf = pd.read_csv('postalcode.csv')\ndf.head()"
        },
        {
            "cell_type": "code",
            "execution_count": 17,
            "metadata": {},
            "outputs": [],
            "source": "postal_code = pd.merge(postal_code, df, on=\"Postal Code\")"
        },
        {
            "cell_type": "code",
            "execution_count": 21,
            "metadata": {},
            "outputs": [
                {
                    "data": {
                        "text/html": "<div>\n<style scoped>\n    .dataframe tbody tr th:only-of-type {\n        vertical-align: middle;\n    }\n\n    .dataframe tbody tr th {\n        vertical-align: top;\n    }\n\n    .dataframe thead th {\n        text-align: right;\n    }\n</style>\n<table border=\"1\" class=\"dataframe\">\n  <thead>\n    <tr style=\"text-align: right;\">\n      <th></th>\n      <th>Postal Code</th>\n      <th>Borough</th>\n      <th>Neighborhood</th>\n      <th>Latitude</th>\n      <th>Longitude</th>\n    </tr>\n  </thead>\n  <tbody>\n    <tr>\n      <th>0</th>\n      <td>M3A</td>\n      <td>North York</td>\n      <td>Parkwoods</td>\n      <td>43.753259</td>\n      <td>-79.329656</td>\n    </tr>\n    <tr>\n      <th>1</th>\n      <td>M4A</td>\n      <td>North York</td>\n      <td>Victoria Village</td>\n      <td>43.725882</td>\n      <td>-79.315572</td>\n    </tr>\n    <tr>\n      <th>2</th>\n      <td>M5A</td>\n      <td>Downtown Toronto</td>\n      <td>Regent Park, Harbourfront</td>\n      <td>43.654260</td>\n      <td>-79.360636</td>\n    </tr>\n    <tr>\n      <th>3</th>\n      <td>M6A</td>\n      <td>North York</td>\n      <td>Lawrence Manor, Lawrence Heights</td>\n      <td>43.718518</td>\n      <td>-79.464763</td>\n    </tr>\n    <tr>\n      <th>4</th>\n      <td>M7A</td>\n      <td>Downtown Toronto</td>\n      <td>Queen's Park, Ontario Provincial Government</td>\n      <td>43.662301</td>\n      <td>-79.389494</td>\n    </tr>\n    <tr>\n      <th>5</th>\n      <td>M9A</td>\n      <td>Etobicoke</td>\n      <td>Islington Avenue</td>\n      <td>43.667856</td>\n      <td>-79.532242</td>\n    </tr>\n    <tr>\n      <th>6</th>\n      <td>M1B</td>\n      <td>Scarborough</td>\n      <td>Malvern, Rouge</td>\n      <td>43.806686</td>\n      <td>-79.194353</td>\n    </tr>\n    <tr>\n      <th>7</th>\n      <td>M3B</td>\n      <td>North York</td>\n      <td>Don Mills</td>\n      <td>43.745906</td>\n      <td>-79.352188</td>\n    </tr>\n    <tr>\n      <th>8</th>\n      <td>M4B</td>\n      <td>East York</td>\n      <td>Parkview Hill, Woodbine Gardens</td>\n      <td>43.706397</td>\n      <td>-79.309937</td>\n    </tr>\n    <tr>\n      <th>9</th>\n      <td>M5B</td>\n      <td>Downtown Toronto</td>\n      <td>Garden District, Ryerson</td>\n      <td>43.657162</td>\n      <td>-79.378937</td>\n    </tr>\n    <tr>\n      <th>10</th>\n      <td>M6B</td>\n      <td>North York</td>\n      <td>Glencairn</td>\n      <td>43.709577</td>\n      <td>-79.445073</td>\n    </tr>\n    <tr>\n      <th>11</th>\n      <td>M9B</td>\n      <td>Etobicoke</td>\n      <td>West Deane Park, Princess Gardens, Martin Grov...</td>\n      <td>43.650943</td>\n      <td>-79.554724</td>\n    </tr>\n  </tbody>\n</table>\n</div>",
                        "text/plain": "   Postal Code           Borough  \\\n0          M3A        North York   \n1          M4A        North York   \n2          M5A  Downtown Toronto   \n3          M6A        North York   \n4          M7A  Downtown Toronto   \n5          M9A         Etobicoke   \n6          M1B       Scarborough   \n7          M3B        North York   \n8          M4B         East York   \n9          M5B  Downtown Toronto   \n10         M6B        North York   \n11         M9B         Etobicoke   \n\n                                         Neighborhood   Latitude  Longitude  \n0                                           Parkwoods  43.753259 -79.329656  \n1                                    Victoria Village  43.725882 -79.315572  \n2                           Regent Park, Harbourfront  43.654260 -79.360636  \n3                    Lawrence Manor, Lawrence Heights  43.718518 -79.464763  \n4         Queen's Park, Ontario Provincial Government  43.662301 -79.389494  \n5                                    Islington Avenue  43.667856 -79.532242  \n6                                      Malvern, Rouge  43.806686 -79.194353  \n7                                           Don Mills  43.745906 -79.352188  \n8                     Parkview Hill, Woodbine Gardens  43.706397 -79.309937  \n9                            Garden District, Ryerson  43.657162 -79.378937  \n10                                          Glencairn  43.709577 -79.445073  \n11  West Deane Park, Princess Gardens, Martin Grov...  43.650943 -79.554724  "
                    },
                    "execution_count": 21,
                    "metadata": {},
                    "output_type": "execute_result"
                }
            ],
            "source": "#now we merged latitude and longitude with table from Part 1\npostal_code.head(12)"
        },
        {
            "cell_type": "code",
            "execution_count": 22,
            "metadata": {},
            "outputs": [
                {
                    "data": {
                        "text/plain": "(103, 5)"
                    },
                    "execution_count": 22,
                    "metadata": {},
                    "output_type": "execute_result"
                }
            ],
            "source": "postal_code.shape"
        },
        {
            "cell_type": "markdown",
            "metadata": {},
            "source": "# **Part 3**"
        },
        {
            "cell_type": "code",
            "execution_count": null,
            "metadata": {},
            "outputs": [],
            "source": ""
        }
    ],
    "metadata": {
        "kernelspec": {
            "display_name": "Python 3.6",
            "language": "python",
            "name": "python3"
        },
        "language_info": {
            "codemirror_mode": {
                "name": "ipython",
                "version": 3
            },
            "file_extension": ".py",
            "mimetype": "text/x-python",
            "name": "python",
            "nbconvert_exporter": "python",
            "pygments_lexer": "ipython3",
            "version": "3.6.9"
        }
    },
    "nbformat": 4,
    "nbformat_minor": 1
}