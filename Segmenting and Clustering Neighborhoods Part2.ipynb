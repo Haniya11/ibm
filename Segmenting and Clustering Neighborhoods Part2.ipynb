{
    "cells": [
        {
            "cell_type": "markdown",
            "metadata": {
                "collapsed": true
            },
            "source": "# **Part 1**"
        },
        {
            "cell_type": "code",
            "execution_count": 1,
            "metadata": {},
            "outputs": [],
            "source": "import pandas as pd\nimport numpy as np\n\nweb = pd.read_html(\"https://en.wikipedia.org/wiki/List_of_postal_codes_of_Canada:_M\", header=0)\npostal_code = web[0]\npostal_code.drop(postal_code[postal_code['Borough'] == 'Not assigned'].index, inplace = True)\npostal_code = postal_code.reset_index(drop=True);"
        },
        {
            "cell_type": "code",
            "execution_count": 2,
            "metadata": {},
            "outputs": [
                {
                    "data": {
                        "text/html": "<div>\n<style scoped>\n    .dataframe tbody tr th:only-of-type {\n        vertical-align: middle;\n    }\n\n    .dataframe tbody tr th {\n        vertical-align: top;\n    }\n\n    .dataframe thead th {\n        text-align: right;\n    }\n</style>\n<table border=\"1\" class=\"dataframe\">\n  <thead>\n    <tr style=\"text-align: right;\">\n      <th></th>\n      <th>Postal Code</th>\n      <th>Borough</th>\n      <th>Neighborhood</th>\n    </tr>\n  </thead>\n  <tbody>\n    <tr>\n      <th>0</th>\n      <td>M3A</td>\n      <td>North York</td>\n      <td>Parkwoods</td>\n    </tr>\n    <tr>\n      <th>1</th>\n      <td>M4A</td>\n      <td>North York</td>\n      <td>Victoria Village</td>\n    </tr>\n    <tr>\n      <th>2</th>\n      <td>M5A</td>\n      <td>Downtown Toronto</td>\n      <td>Regent Park, Harbourfront</td>\n    </tr>\n    <tr>\n      <th>3</th>\n      <td>M6A</td>\n      <td>North York</td>\n      <td>Lawrence Manor, Lawrence Heights</td>\n    </tr>\n    <tr>\n      <th>4</th>\n      <td>M7A</td>\n      <td>Downtown Toronto</td>\n      <td>Queen's Park, Ontario Provincial Government</td>\n    </tr>\n  </tbody>\n</table>\n</div>",
                        "text/plain": "  Postal Code           Borough                                 Neighborhood\n0         M3A        North York                                    Parkwoods\n1         M4A        North York                             Victoria Village\n2         M5A  Downtown Toronto                    Regent Park, Harbourfront\n3         M6A        North York             Lawrence Manor, Lawrence Heights\n4         M7A  Downtown Toronto  Queen's Park, Ontario Provincial Government"
                    },
                    "execution_count": 2,
                    "metadata": {},
                    "output_type": "execute_result"
                }
            ],
            "source": "postal_code.loc[postal_code['Neighborhood'] == 'NAN', 'Neighborhood'] = postal_code['Borough']\npostal_code = postal_code.reset_index(drop=True);\npostal_code.head()"
        },
        {
            "cell_type": "code",
            "execution_count": 3,
            "metadata": {},
            "outputs": [
                {
                    "data": {
                        "text/plain": "(103, 3)"
                    },
                    "execution_count": 3,
                    "metadata": {},
                    "output_type": "execute_result"
                }
            ],
            "source": "postal_code.shape"
        },
        {
            "cell_type": "markdown",
            "metadata": {},
            "source": "# **Part 2**"
        },
        {
            "cell_type": "code",
            "execution_count": 4,
            "metadata": {},
            "outputs": [
                {
                    "name": "stdout",
                    "output_type": "stream",
                    "text": "--2020-05-15 23:10:26--  https://cocl.us/Geospatial_data\nResolving cocl.us (cocl.us)... 159.8.69.21, 159.8.69.24, 159.8.72.228\nConnecting to cocl.us (cocl.us)|159.8.69.21|:443... connected.\nHTTP request sent, awaiting response... 301 Moved Permanently\nLocation: https://ibm.box.com/shared/static/9afzr83pps4pwf2smjjcf1y5mvgb18rr.csv [following]\n--2020-05-15 23:10:28--  https://ibm.box.com/shared/static/9afzr83pps4pwf2smjjcf1y5mvgb18rr.csv\nResolving ibm.box.com (ibm.box.com)... 107.152.29.197\nConnecting to ibm.box.com (ibm.box.com)|107.152.29.197|:443... connected.\nHTTP request sent, awaiting response... 301 Moved Permanently\nLocation: /public/static/9afzr83pps4pwf2smjjcf1y5mvgb18rr.csv [following]\n--2020-05-15 23:10:29--  https://ibm.box.com/public/static/9afzr83pps4pwf2smjjcf1y5mvgb18rr.csv\nReusing existing connection to ibm.box.com:443.\nHTTP request sent, awaiting response... 301 Moved Permanently\nLocation: https://ibm.ent.box.com/public/static/9afzr83pps4pwf2smjjcf1y5mvgb18rr.csv [following]\n--2020-05-15 23:10:29--  https://ibm.ent.box.com/public/static/9afzr83pps4pwf2smjjcf1y5mvgb18rr.csv\nResolving ibm.ent.box.com (ibm.ent.box.com)... 185.235.236.211\nConnecting to ibm.ent.box.com (ibm.ent.box.com)|185.235.236.211|:443... connected.\nHTTP request sent, awaiting response... 302 Found\nLocation: https://public.boxcloud.com/d/1/b1!zDLDD5OcFGQi86mqcYjluo1wXvCEH3Jyq1_yJtEdGOl42L9X6PoiZdoxvQbW5gnVOuYv9428HbxsTZ56F5sZV1oRoTNI6Zx7rHI41S1TeigMul_tOpmd3pjij7_RJCz8X0ijT6BhRoy__BoeHE6-T3bccGivmkTIOpdaJERq4Ny2cQqmo_cOryJL-7sQjSfan8CTWBPH3qIhAuMUfjA_Q02Jqh3PxcABg0_W14W6WGxVUmJnOiOnPJ5tKIBmIYQoQPvrDhSLjxOf_AbSnUkGbl9fdC4Jgh2T-E0_sCe4XLHr9LeqlcEPFPzAizFM4ulYqk2aJRje3dQTDrwCJUK0wkwn0-AxwOxp5iWNRygkdrHkz5V5Aq3Q3Fkc2AdgLSyij2X99_TU7JujtdQkyXI3uT3lOiZTMgWkDT4j070On83cka7JNG16ImzxDEwzaFz-gfkb4ibeoxEFSJQiNO5Lj8-3FBckzsiq1MyNC_0cCR7NHWTDgdm3MY37gZcgC9fBPuSsCYqUOOPFFd1jB36SBDBlaODzb5ckZLIEYIA3Y2RNkixRLwswjtGVrgkcv5iT48AD5b5w5100FEjI9ngfZ1qDAdZu6sF_TjTH3Lwu7W6Rh8fxtXaRgQCBJdsJtHJoRzkUmErIweIQ2EINjTlT4HPSgN23lQYEvF9U9c6Kq8EvSQyogF0I3G3aMA5lsd6ufAsLMdsa3Y4NNB2y4Eq0WvZMX6OfVRKwjojczVT4L-2bfvzwm-T_w5gCRag8X4RHPfrFAnB-rJbjmmq0-bVPl7EEaHEm-mz5HrDM5ku44xUDon-Et7ChXtmK4BU7H2RMuVFrptRcNt4J7vaje7Xn0QDEh09MeadnZOPPQ9Ay2NGIXCeQ6rQOBTfbTI05SusRZk2xsagtwW1Qr_nqEAJ5aOsDYBwJyCPbpD9oiHbQRJFpgcor9O4zxL_aKm0fp-fNZBQhu9Y_k9nul8r12djET3vvObsZJBhQl37Pkl24cH9G69QNwlvSqErDiSEQ5PJVJqcP6ZbyZMbUgsp6sKELaW25Xi6GuA42t8eTUhKffFJdlre7mCnRHlOUsxupC_OHtcJz6twpnji9Ba1s1nLqUsJvHJ4DqGZT1YND7J3DvccwkZLxakrAmE94JanQA62PxBWr14OJ5jxJXOS9mkFikgwH3V4Xu6XZR2glKHz-r75SxUAM2Z9OXtAfD2CM_lqaBsNPlsZENvqFWCT-dz08CVckzcK2LTinfAz2odZkE9cKsjziVYDTU60A7asbA-njL1JXSb1uK3B7bW7Ze2RkbnmtbUJqOyIjxe-9-UYsBiV-5D7gDS6VHBem-0K3xqMuwp6LoIZp-cqQ5n7aQvtlO6hwD7c7VpWRj_YDrBHtUfOVoybauMmUANtzbz84IIWYE1I5JpCbdUlxxGKD0zGa7ojyrJAosaVab7311bCjxX6YUM4./download [following]\n--2020-05-15 23:10:30--  https://public.boxcloud.com/d/1/b1!zDLDD5OcFGQi86mqcYjluo1wXvCEH3Jyq1_yJtEdGOl42L9X6PoiZdoxvQbW5gnVOuYv9428HbxsTZ56F5sZV1oRoTNI6Zx7rHI41S1TeigMul_tOpmd3pjij7_RJCz8X0ijT6BhRoy__BoeHE6-T3bccGivmkTIOpdaJERq4Ny2cQqmo_cOryJL-7sQjSfan8CTWBPH3qIhAuMUfjA_Q02Jqh3PxcABg0_W14W6WGxVUmJnOiOnPJ5tKIBmIYQoQPvrDhSLjxOf_AbSnUkGbl9fdC4Jgh2T-E0_sCe4XLHr9LeqlcEPFPzAizFM4ulYqk2aJRje3dQTDrwCJUK0wkwn0-AxwOxp5iWNRygkdrHkz5V5Aq3Q3Fkc2AdgLSyij2X99_TU7JujtdQkyXI3uT3lOiZTMgWkDT4j070On83cka7JNG16ImzxDEwzaFz-gfkb4ibeoxEFSJQiNO5Lj8-3FBckzsiq1MyNC_0cCR7NHWTDgdm3MY37gZcgC9fBPuSsCYqUOOPFFd1jB36SBDBlaODzb5ckZLIEYIA3Y2RNkixRLwswjtGVrgkcv5iT48AD5b5w5100FEjI9ngfZ1qDAdZu6sF_TjTH3Lwu7W6Rh8fxtXaRgQCBJdsJtHJoRzkUmErIweIQ2EINjTlT4HPSgN23lQYEvF9U9c6Kq8EvSQyogF0I3G3aMA5lsd6ufAsLMdsa3Y4NNB2y4Eq0WvZMX6OfVRKwjojczVT4L-2bfvzwm-T_w5gCRag8X4RHPfrFAnB-rJbjmmq0-bVPl7EEaHEm-mz5HrDM5ku44xUDon-Et7ChXtmK4BU7H2RMuVFrptRcNt4J7vaje7Xn0QDEh09MeadnZOPPQ9Ay2NGIXCeQ6rQOBTfbTI05SusRZk2xsagtwW1Qr_nqEAJ5aOsDYBwJyCPbpD9oiHbQRJFpgcor9O4zxL_aKm0fp-fNZBQhu9Y_k9nul8r12djET3vvObsZJBhQl37Pkl24cH9G69QNwlvSqErDiSEQ5PJVJqcP6ZbyZMbUgsp6sKELaW25Xi6GuA42t8eTUhKffFJdlre7mCnRHlOUsxupC_OHtcJz6twpnji9Ba1s1nLqUsJvHJ4DqGZT1YND7J3DvccwkZLxakrAmE94JanQA62PxBWr14OJ5jxJXOS9mkFikgwH3V4Xu6XZR2glKHz-r75SxUAM2Z9OXtAfD2CM_lqaBsNPlsZENvqFWCT-dz08CVckzcK2LTinfAz2odZkE9cKsjziVYDTU60A7asbA-njL1JXSb1uK3B7bW7Ze2RkbnmtbUJqOyIjxe-9-UYsBiV-5D7gDS6VHBem-0K3xqMuwp6LoIZp-cqQ5n7aQvtlO6hwD7c7VpWRj_YDrBHtUfOVoybauMmUANtzbz84IIWYE1I5JpCbdUlxxGKD0zGa7ojyrJAosaVab7311bCjxX6YUM4./download\nResolving public.boxcloud.com (public.boxcloud.com)... 185.235.236.200\nConnecting to public.boxcloud.com (public.boxcloud.com)|185.235.236.200|:443... connected.\nHTTP request sent, awaiting response... 200 OK\nLength: 2891 (2.8K) [text/csv]\nSaving to: \u2018postalcode.csv\u2019\n\n100%[======================================>] 2,891       --.-K/s   in 0s      \n\n2020-05-15 23:10:30 (239 MB/s) - \u2018postalcode.csv\u2019 saved [2891/2891]\n\n"
                }
            ],
            "source": "!wget -O postalcode.csv https://cocl.us/Geospatial_data"
        },
        {
            "cell_type": "code",
            "execution_count": 5,
            "metadata": {},
            "outputs": [
                {
                    "data": {
                        "text/html": "<div>\n<style scoped>\n    .dataframe tbody tr th:only-of-type {\n        vertical-align: middle;\n    }\n\n    .dataframe tbody tr th {\n        vertical-align: top;\n    }\n\n    .dataframe thead th {\n        text-align: right;\n    }\n</style>\n<table border=\"1\" class=\"dataframe\">\n  <thead>\n    <tr style=\"text-align: right;\">\n      <th></th>\n      <th>Postal Code</th>\n      <th>Latitude</th>\n      <th>Longitude</th>\n    </tr>\n  </thead>\n  <tbody>\n    <tr>\n      <th>0</th>\n      <td>M1B</td>\n      <td>43.806686</td>\n      <td>-79.194353</td>\n    </tr>\n    <tr>\n      <th>1</th>\n      <td>M1C</td>\n      <td>43.784535</td>\n      <td>-79.160497</td>\n    </tr>\n    <tr>\n      <th>2</th>\n      <td>M1E</td>\n      <td>43.763573</td>\n      <td>-79.188711</td>\n    </tr>\n    <tr>\n      <th>3</th>\n      <td>M1G</td>\n      <td>43.770992</td>\n      <td>-79.216917</td>\n    </tr>\n    <tr>\n      <th>4</th>\n      <td>M1H</td>\n      <td>43.773136</td>\n      <td>-79.239476</td>\n    </tr>\n  </tbody>\n</table>\n</div>",
                        "text/plain": "  Postal Code   Latitude  Longitude\n0         M1B  43.806686 -79.194353\n1         M1C  43.784535 -79.160497\n2         M1E  43.763573 -79.188711\n3         M1G  43.770992 -79.216917\n4         M1H  43.773136 -79.239476"
                    },
                    "execution_count": 5,
                    "metadata": {},
                    "output_type": "execute_result"
                }
            ],
            "source": "df = pd.read_csv('postalcode.csv')\ndf.head()"
        },
        {
            "cell_type": "code",
            "execution_count": null,
            "metadata": {},
            "outputs": [],
            "source": ""
        },
        {
            "cell_type": "code",
            "execution_count": null,
            "metadata": {},
            "outputs": [],
            "source": ""
        },
        {
            "cell_type": "code",
            "execution_count": null,
            "metadata": {},
            "outputs": [],
            "source": ""
        }
    ],
    "metadata": {
        "kernelspec": {
            "display_name": "Python 3.6",
            "language": "python",
            "name": "python3"
        },
        "language_info": {
            "codemirror_mode": {
                "name": "ipython",
                "version": 3
            },
            "file_extension": ".py",
            "mimetype": "text/x-python",
            "name": "python",
            "nbconvert_exporter": "python",
            "pygments_lexer": "ipython3",
            "version": "3.6.9"
        }
    },
    "nbformat": 4,
    "nbformat_minor": 1
}